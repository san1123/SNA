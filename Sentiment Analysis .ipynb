{
 "cells": [
  {
   "cell_type": "raw",
   "id": "1848e898",
   "metadata": {},
   "source": [
    "Description:\n",
    "\n",
    "Sentiment analysis:\n",
    "\n",
    "Sentiment analysis (also known as opinion mining or emotion AI) is the use of natural language processing, text analysis, computational linguistics, and biometrics to systematically identify, extract, quantify, and study affective states and subjective information. - Wikipedia\n",
    "\n",
    "Python:\n",
    "\n",
    "Python is a high-level, general-purpose programming language. Its design philosophy emphasizes code readability with the use of significant indentation. Its language constructs and object-oriented approach aim to help programmers write clear, logical code for small- and large-scale projects - Wikipedia)\n",
    "\n",
    "NLTK:\n",
    "\n",
    "The Natural Language Toolkit, or more commonly NLTK, is a suite of libraries and programs for symbolic and statistical natural language processing (NLP) for English written in the Python programming language). It was developed by Steven Bird and Edward Loper in the Department of Computer and Information Science at the University of Pennsylvania. -Wikipedia\n",
    "\n",
    "Text Corpus:\n",
    "\n",
    "Text corpora (singular: text corpus) are large and structured sets of texts, which have been systematically collected. Text corpora are used by corpus linguists and within other branches of linguistics for statistical analysis, hypothesis testing, finding patterns of language use, investigating language change and variation, and teaching language proficiency. -Wikipedia\n",
    "\n",
    "VADER:\n",
    "\n",
    "VADER Sentiment Analysis. VADER (Valence Aware Dictionary and sEntiment Reasoner) is a lexicon and rule-based sentiment analysis tool that is specifically attuned to sentiments expressed in social media, and works well on texts from other domains. GitHub\n",
    "\n",
    "colorama:\n",
    "Simple cross-platform colored terminal text in Python - GitHub\n",
    "\n",
    "Procedure:\n",
    "\n",
    "Load required libraries"
   ]
  },
  {
   "cell_type": "code",
   "execution_count": 20,
   "id": "832e160b",
   "metadata": {},
   "outputs": [
    {
     "name": "stderr",
     "output_type": "stream",
     "text": [
      "[nltk_data] Downloading package vader_lexicon to C:\\Users\\sanket\n",
      "[nltk_data]     jha\\AppData\\Roaming\\nltk_data...\n",
      "[nltk_data]   Package vader_lexicon is already up-to-date!\n",
      "[nltk_data] Downloading package twitter_samples to C:\\Users\\sanket\n",
      "[nltk_data]     jha\\AppData\\Roaming\\nltk_data...\n",
      "[nltk_data]   Package twitter_samples is already up-to-date!\n"
     ]
    }
   ],
   "source": [
    "# import nltk\n",
    "nltk.download('vader_lexicon')\n",
    "nltk.download('twitter_samples')\n",
    "from nltk.corpus import stopwords, twitter_samples\n",
    "from nltk.sentiment import SentimentIntensityAnalyzer\n",
    "from statistics import mean\n",
    "from random import shuffle\n",
    "from colorama import Fore"
   ]
  },
  {
   "cell_type": "markdown",
   "id": "f0464f7f",
   "metadata": {},
   "source": [
    "-Load and test the VADER sentiment analyzer\n"
   ]
  },
  {
   "cell_type": "code",
   "execution_count": 18,
   "id": "0eddbe02",
   "metadata": {},
   "outputs": [
    {
     "data": {
      "text/plain": [
       "{'neg': 0.0, 'neu': 1.0, 'pos': 0.0, 'compound': 0.0}"
      ]
     },
     "execution_count": 18,
     "metadata": {},
     "output_type": "execute_result"
    }
   ],
   "source": [
    "sia = SentimentIntensityAnalyzer()\n",
    "sia.polarity_scores(\"The most famous Python NLP.\")\n"
   ]
  },
  {
   "cell_type": "markdown",
   "id": "5ef91a49",
   "metadata": {},
   "source": [
    "-Perform sentiment analysis on any 10 tweets"
   ]
  },
  {
   "cell_type": "code",
   "execution_count": 16,
   "id": "a1206938",
   "metadata": {},
   "outputs": [
    {
     "name": "stdout",
     "output_type": "stream",
     "text": [
      "\u001b[31mRT @britainelects: Latest YouGov poll (29 - 30 Apr):\n",
      "LAB - 35% (+1)\n",
      "CON - 34% (-1)\n",
      "UKIP - 12% (-)\n",
      "LDEM - 8% (-1) \n",
      "GRN - 5% (+1)\n",
      "\u001b[31m@nickoz0409 exactly what policy can she block that is not otherwise supported by Tories and Libdems? Open your eyes mate!\n",
      "\u001b[32mRT @JackHarrison: I thought that #Clegg did well tonight. Strong, assertive and proud of a government that hasn't done too bad. #LibDems @L…\n",
      "\u001b[31mRT @papa_face: My rank of tonight's performances: 1. Nigel Farage, 2. David Cameron, 3. Nick Clegg, 4. Ed Miliband #AskNigelFarage #ukip\n",
      "\u001b[32mShe's nice. :-)\n",
      "\u001b[31m@DouglasCarswell talking about unseating Labour and Tory seats. Historically polls always underestimate UKIP\n",
      "\u001b[31mRT @UKPoliticsHub: YouGov poll (29-30 Apr):\n",
      "LAB - 35% (+1)\n",
      "CON - 34% (-1)\n",
      "UKIP - 12% (-)\n",
      "LDEM - 8% (-1) \n",
      "GRN - 5% (+1)\n",
      "\n",
      "#ge2015\n",
      "\u001b[32m@OhhhTommyC i aint never uploading lol. Also found another vid of u dancing to henrys trap; keep going on your fitness journey tommy! :)\n",
      "\u001b[32mRT @timothy_stanley: Why wasn't this #Farage confrontation on at 9.30 nationwide? I'm told Scotland broadcasting a comedy?\n",
      "\u001b[32mRT @edballsmp: As Ed Miliband said, after David Cameron's comments tonight tax credits and child benefit are on the ballot paper #bbcqt\n"
     ]
    }
   ],
   "source": [
    "pink = Fore.GREEN\n",
    "red = Fore.RED\n",
    "\n",
    "def ispositive(tweet : str) -> bool:\n",
    "    return sia.polarity_scores(tweet)[\"compound\"] > 0\n",
    "\n",
    "tweets = [tweet for tweet in twitter_samples.strings()]\n",
    "shuffle(tweets)\n",
    "\n",
    "for tweet in tweets[ : 10]:\n",
    "    color = pink\n",
    "    if not ispositive(tweet):\n",
    "        color = red\n",
    "    print(f\"{color}{tweet}\")"
   ]
  },
  {
   "cell_type": "code",
   "execution_count": null,
   "id": "12dd4575",
   "metadata": {},
   "outputs": [],
   "source": []
  }
 ],
 "metadata": {
  "kernelspec": {
   "display_name": "Python 3",
   "language": "python",
   "name": "python3"
  },
  "language_info": {
   "codemirror_mode": {
    "name": "ipython",
    "version": 3
   },
   "file_extension": ".py",
   "mimetype": "text/x-python",
   "name": "python",
   "nbconvert_exporter": "python",
   "pygments_lexer": "ipython3",
   "version": "3.8.8"
  }
 },
 "nbformat": 4,
 "nbformat_minor": 5
}
